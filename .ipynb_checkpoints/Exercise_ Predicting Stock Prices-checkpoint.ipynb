{
 "cells": [
  {
   "cell_type": "markdown",
   "metadata": {
    "_uuid": "58cdb57495bc6ad17a268ec31dc4a9c26007b799"
   },
   "source": [
    "**[Time Series With Siraj Course Home Page](https://kaggle.com/learn/time-series-with-siraj)**\n",
    "\n",
    "---\n",
    "\n",
    "# The Challenge\n",
    "Can you improve the model by modifying Siraj's code in steps 2 and 3 below?\n",
    "\n",
    "You can try adding layers, adjusting dropout, changing the optimization strategy. Get creative!\n",
    "\n",
    "# Step 0\n",
    "Run the cell below to load some utility functions. Feel free not to read this cell. It's just set-up for the interesting part."
   ]
  },
  {
   "cell_type": "code",
   "execution_count": 3,
   "metadata": {
    "_kg_hide-input": false,
    "_kg_hide-output": false,
    "_uuid": "c92a33bb08524fd8eb999dbc7150ecdc85ec2078"
   },
   "outputs": [
    {
     "name": "stdout",
     "output_type": "stream",
     "text": [
      "Setup Complete\n"
     ]
    }
   ],
   "source": [
    "import numpy as np\n",
    "from numpy import newaxis\n",
    "from keras.layers.core import Dense, Activation, Dropout\n",
    "from keras.layers.recurrent import LSTM\n",
    "from keras.models import Sequential\n",
    "\n",
    "# Set up code checking\n",
    "# from learntools.core import binder\n",
    "# binder.bind(globals())\n",
    "# from learntools.time_series_with_siraj.ex1 import *\n",
    "\n",
    "def load_data(filename, seq_len, normalise_window):\n",
    "    f = open(filename, 'r').read()\n",
    "    data = f.split('\\n')\n",
    "\n",
    "    sequence_length = seq_len + 1\n",
    "    result = []\n",
    "    for index in range(len(data) - sequence_length):\n",
    "        result.append(data[index: index + sequence_length])\n",
    "    \n",
    "    if normalise_window:\n",
    "        result = normalise_windows(result)\n",
    "\n",
    "    result = np.array(result)\n",
    "\n",
    "    row = round(0.9 * result.shape[0])\n",
    "    train = result[:int(row), :]\n",
    "    np.random.shuffle(train)\n",
    "    x_train = train[:, :-1]\n",
    "    y_train = train[:, -1]\n",
    "    x_test = result[int(row):, :-1]\n",
    "    y_test = result[int(row):, -1]\n",
    "\n",
    "    x_train = np.reshape(x_train, (x_train.shape[0], x_train.shape[1], 1))\n",
    "    x_test = np.reshape(x_test, (x_test.shape[0], x_test.shape[1], 1))  \n",
    "\n",
    "    return [x_train, y_train, x_test, y_test]\n",
    "\n",
    "\n",
    "def normalise_windows(window_data):\n",
    "    normalised_data = []\n",
    "    for window in window_data:\n",
    "        normalised_window = [((float(p) / float(window[0])) - 1) for p in window]\n",
    "        normalised_data.append(normalised_window)\n",
    "    return normalised_data\n",
    "\n",
    "print(\"Setup Complete\")\n"
   ]
  },
  {
   "cell_type": "markdown",
   "metadata": {
    "_uuid": "5088b4f67db2b4c343444d600c81133d5ed62de7"
   },
   "source": [
    "# Review Data\n",
    "\n",
    "The code cell below loads your training and test data. Do a quick overview of the data to make sure you understand it."
   ]
  },
  {
   "cell_type": "code",
   "execution_count": 5,
   "metadata": {
    "_kg_hide-output": false,
    "_uuid": "4dd05645f40dd9cca9245e00fc3e7af55d540ee9"
   },
   "outputs": [],
   "source": [
    "X_train, y_train, X_test, y_test = load_data('sp500.csv', 50, True)\n",
    "\n",
    "# Your exploratory data analysis code below"
   ]
  },
  {
   "cell_type": "markdown",
   "metadata": {
    "_uuid": "d6f27a9712263bfe1c57e5accca69f2e82a1f84c"
   },
   "source": [
    "# Step 1: Run Siraj's Model\n",
    "\n",
    "We have a code cell below to specify and fit Siraj's model. Run this cell without modifying it, so you can compare your results to his.\n",
    "\n",
    "After you run his code, we'll have space for you to create your own model in Step 2."
   ]
  },
  {
   "cell_type": "code",
   "execution_count": 6,
   "metadata": {
    "_kg_hide-output": false,
    "_uuid": "54e09ea0878f53a1735e7b7813ab7a226374957b"
   },
   "outputs": [
    {
     "name": "stdout",
     "output_type": "stream",
     "text": [
      "Train on 3523 samples, validate on 186 samples\n",
      "Epoch 1/1\n",
      "3523/3523 [==============================] - 4s 1ms/step - loss: 0.0023 - val_loss: 8.8940e-04\n"
     ]
    },
    {
     "ename": "NameError",
     "evalue": "name 'step_1' is not defined",
     "output_type": "error",
     "traceback": [
      "\u001b[0;31m---------------------------------------------------------------------------\u001b[0m",
      "\u001b[0;31mNameError\u001b[0m                                 Traceback (most recent call last)",
      "\u001b[0;32m<ipython-input-6-b1d1b7d5c7ec>\u001b[0m in \u001b[0;36m<module>\u001b[0;34m\u001b[0m\n\u001b[1;32m     23\u001b[0m     validation_split=0.05)\n\u001b[1;32m     24\u001b[0m \u001b[0;34m\u001b[0m\u001b[0m\n\u001b[0;32m---> 25\u001b[0;31m \u001b[0mstep_1\u001b[0m\u001b[0;34m.\u001b[0m\u001b[0mcheck\u001b[0m\u001b[0;34m(\u001b[0m\u001b[0;34m)\u001b[0m\u001b[0;34m\u001b[0m\u001b[0;34m\u001b[0m\u001b[0m\n\u001b[0m",
      "\u001b[0;31mNameError\u001b[0m: name 'step_1' is not defined"
     ]
    }
   ],
   "source": [
    "siraj_model = Sequential()\n",
    "\n",
    "siraj_model.add(LSTM(\n",
    "    input_shape=(None, 1),\n",
    "    units=50,\n",
    "    return_sequences=True))\n",
    "siraj_model.add(Dropout(0.2))\n",
    "\n",
    "siraj_model.add(LSTM(100, return_sequences=False))\n",
    "siraj_model.add(Dropout(0.2))\n",
    "\n",
    "siraj_model.add(Dense(1))\n",
    "siraj_model.add(Activation('linear'))\n",
    "\n",
    "siraj_model.compile(loss='mse', optimizer='rmsprop')\n",
    "\n",
    "\n",
    "siraj_model.fit(\n",
    "    X_train,\n",
    "    y_train,\n",
    "    batch_size=512,\n",
    "    epochs=1,\n",
    "    validation_split=0.05)\n",
    "\n",
    "step_1.check()"
   ]
  },
  {
   "cell_type": "markdown",
   "metadata": {
    "_uuid": "573ceb3206dacf45115a4cefc9c4ecc226a5264c"
   },
   "source": [
    "# Step 2: Create Your Model.\n",
    "\n",
    "Create your model in the cell below. From the graphs, how does it stack up to Siraj's model?"
   ]
  },
  {
   "cell_type": "code",
   "execution_count": null,
   "metadata": {
    "_uuid": "dd6bbd19634d81b5fb798639248c1a95a9ecc960"
   },
   "outputs": [],
   "source": [
    "my_model = Sequential()\n",
    "\n",
    "my_model.add(LSTM(\n",
    "    input_shape=(None, 1),\n",
    "    units=50,\n",
    "    return_sequences=True))\n",
    "\n",
    "\n",
    "my_model.add(LSTM(100, return_sequences=False))\n",
    "my_model.add(Dropout(0.2))\n",
    "\n",
    "my_model.add(Dense(1))\n",
    "my_model.add(Activation('linear'))\n",
    "\n",
    "my_model.compile(loss='mse', optimizer='rmsprop')\n",
    "\n",
    "\n",
    "my_model.fit(\n",
    "    X_train,\n",
    "    y_train,\n",
    "    batch_size=512,\n",
    "    epochs=1,\n",
    "    validation_split=0.05)\n",
    "\n",
    "# Fill in the parameters to fit your model\n",
    "my_model.fit(\n",
    "    X_train,\n",
    "    y_train,\n",
    "    batch_size=____,   # Fill this in\n",
    "    epochs=____,       # Fill this in\n",
    "    validation_split=0.05)\n",
    "\n",
    "step_2.check()"
   ]
  },
  {
   "cell_type": "markdown",
   "metadata": {
    "_uuid": "743c1d1e94dbe9f8af88a52c6b270ad6ba03759b"
   },
   "source": [
    "# Keep Going\n",
    "\n",
    "**[Continue](https://www.kaggle.com/crawford/time-series-modeling)** to learn about a bunch of techniques designed just for time series.\n",
    "\n",
    "---\n",
    "\n",
    "**[Time Series With Siraj Course Home Page](https://kaggle.com/learn/time-series-with-siraj)**\n",
    "\n"
   ]
  }
 ],
 "metadata": {
  "kernelspec": {
   "display_name": "Python 3",
   "language": "python",
   "name": "python3"
  },
  "language_info": {
   "codemirror_mode": {
    "name": "ipython",
    "version": 3
   },
   "file_extension": ".py",
   "mimetype": "text/x-python",
   "name": "python",
   "nbconvert_exporter": "python",
   "pygments_lexer": "ipython3",
   "version": "3.7.2"
  }
 },
 "nbformat": 4,
 "nbformat_minor": 1
}
